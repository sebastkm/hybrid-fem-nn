{
 "cells": [
  {
   "cell_type": "code",
   "execution_count": 1,
   "id": "ee060040",
   "metadata": {},
   "outputs": [
    {
     "ename": "NameError",
     "evalue": "name 'V' is not defined",
     "output_type": "error",
     "traceback": [
      "\u001b[0;31m---------------------------------------------------------------------------\u001b[0m",
      "\u001b[0;31mNameError\u001b[0m                                 Traceback (most recent call last)",
      "\u001b[0;32m/tmp/ipykernel_251/2218901761.py\u001b[0m in \u001b[0;36m<module>\u001b[0;34m\u001b[0m\n\u001b[1;32m      4\u001b[0m \u001b[0;31m# Setup mesh , FE space V with boundary conditions ‘bcs ‘\u001b[0m\u001b[0;34m\u001b[0m\u001b[0;34m\u001b[0m\u001b[0;34m\u001b[0m\u001b[0m\n\u001b[1;32m      5\u001b[0m \u001b[0;31m# Let observations be ‘obs ‘\u001b[0m\u001b[0;34m\u001b[0m\u001b[0;34m\u001b[0m\u001b[0;34m\u001b[0m\u001b[0m\n\u001b[0;32m----> 6\u001b[0;31m \u001b[0mhat_u\u001b[0m \u001b[0;34m=\u001b[0m \u001b[0mFunction\u001b[0m \u001b[0;34m(\u001b[0m\u001b[0mV\u001b[0m\u001b[0;34m)\u001b[0m\u001b[0;34m\u001b[0m\u001b[0;34m\u001b[0m\u001b[0m\n\u001b[0m\u001b[1;32m      7\u001b[0m \u001b[0mlayers\u001b[0m \u001b[0;34m=\u001b[0m \u001b[0;34m[\u001b[0m\u001b[0;36m2\u001b[0m \u001b[0;34m,\u001b[0m \u001b[0;36m10\u001b[0m \u001b[0;34m,\u001b[0m \u001b[0;36m1\u001b[0m\u001b[0;34m]\u001b[0m\u001b[0;34m\u001b[0m\u001b[0;34m\u001b[0m\u001b[0m\n\u001b[1;32m      8\u001b[0m \u001b[0mbias\u001b[0m \u001b[0;34m=\u001b[0m \u001b[0;34m[\u001b[0m\u001b[0;32mTrue\u001b[0m \u001b[0;34m,\u001b[0m \u001b[0;32mTrue\u001b[0m \u001b[0;34m]\u001b[0m\u001b[0;34m\u001b[0m\u001b[0;34m\u001b[0m\u001b[0m\n",
      "\u001b[0;31mNameError\u001b[0m: name 'V' is not defined"
     ]
    }
   ],
   "source": [
    "from fenics import *\n",
    "from dolfin_adjoint import *\n",
    "from neural_network import ANN\n",
    "# Setup mesh , FE space V with boundary conditions ‘bcs ‘\n",
    "# Let observations be ‘obs ‘\n",
    "hat_u = Function (V)\n",
    "layers = [2 , 10 , 1]\n",
    "bias = [True , True ]\n",
    "x , y = SpatialCoordinate ( mesh )\n",
    "net = ANN ( layers , bias =bias , mesh = mesh )\n",
    "E = inner ( grad (u) , grad (v) )*dx - net ([x , y])*v*dx\n",
    "# Solve PDE\n",
    "solve ( lhs ( E) == rhs (E ) , hat_u , bcs )\n",
    "# L^2 error as loss\n",
    "loss = assemble (( hat_u - obs )**2*dx )\n",
    "# Define reduced formulation of problem\n",
    "hat_loss = ReducedFunctional ( loss , net . weights_ctrls () )\n",
    "# Use scipy L - BFGS optimiser\n",
    "opt_theta = minimize ( hat_loss , method =\"L-BFGS -B\")"
   ]
  }
 ],
 "metadata": {
  "kernelspec": {
   "display_name": "Python 3 (ipykernel)",
   "language": "python",
   "name": "python3"
  },
  "language_info": {
   "codemirror_mode": {
    "name": "ipython",
    "version": 3
   },
   "file_extension": ".py",
   "mimetype": "text/x-python",
   "name": "python",
   "nbconvert_exporter": "python",
   "pygments_lexer": "ipython3",
   "version": "3.8.10"
  }
 },
 "nbformat": 4,
 "nbformat_minor": 5
}
